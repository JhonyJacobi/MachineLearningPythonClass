{
 "cells": [
  {
   "cell_type": "markdown",
   "metadata": {},
   "source": [
    "# 3 Entendimiento y preparación de los datos\n",
    "* 3.1 Análisis exploratorio de datos"
   ]
  },
  {
   "cell_type": "markdown",
   "metadata": {},
   "source": [
    "## 3.1 Análisis exploratorio de datos\n",
    "Recurso: \n",
    "1. https://www.data-to-viz.com/"
   ]
  },
  {
   "cell_type": "code",
   "execution_count": 1,
   "metadata": {},
   "outputs": [],
   "source": [
    "import pandas as pd"
   ]
  },
  {
   "cell_type": "code",
   "execution_count": 11,
   "metadata": {},
   "outputs": [],
   "source": [
    "df_train_clientes = pd.read_excel('D:/Proyectos/FS/2019I/Sesion3/data/train_clientes.xlsx',\n",
    "                                  dtype={'ID_CORRELATIVO':'str'})"
   ]
  },
  {
   "cell_type": "code",
   "execution_count": 12,
   "metadata": {
    "scrolled": true
   },
   "outputs": [
    {
     "data": {
      "text/plain": [
       "ID_CORRELATIVO                object\n",
       "CODMES                         int64\n",
       "FLG_BANCARIZADO                int64\n",
       "RANG_INGRESO                  object\n",
       "FLAG_LIMA_PROVINCIA           object\n",
       "EDAD                         float64\n",
       "ANTIGUEDAD                   float64\n",
       "ATTRITION                      int64\n",
       "RANG_SDO_PASIVO_MENOS0        object\n",
       "SDO_ACTIVO_MENOS0              int64\n",
       "SDO_ACTIVO_MENOS1              int64\n",
       "SDO_ACTIVO_MENOS2              int64\n",
       "SDO_ACTIVO_MENOS3              int64\n",
       "SDO_ACTIVO_MENOS4              int64\n",
       "SDO_ACTIVO_MENOS5              int64\n",
       "FLG_SEGURO_MENOS0              int64\n",
       "FLG_SEGURO_MENOS1              int64\n",
       "FLG_SEGURO_MENOS2              int64\n",
       "FLG_SEGURO_MENOS3              int64\n",
       "FLG_SEGURO_MENOS4              int64\n",
       "FLG_SEGURO_MENOS5              int64\n",
       "RANG_NRO_PRODUCTOS_MENOS0     object\n",
       "FLG_NOMINA                     int64\n",
       "NRO_ACCES_CANAL1_MENOS0        int64\n",
       "NRO_ACCES_CANAL1_MENOS1        int64\n",
       "NRO_ACCES_CANAL1_MENOS2        int64\n",
       "NRO_ACCES_CANAL1_MENOS3        int64\n",
       "NRO_ACCES_CANAL1_MENOS4        int64\n",
       "NRO_ACCES_CANAL1_MENOS5        int64\n",
       "NRO_ACCES_CANAL2_MENOS0        int64\n",
       "NRO_ACCES_CANAL2_MENOS1        int64\n",
       "NRO_ACCES_CANAL2_MENOS2        int64\n",
       "NRO_ACCES_CANAL2_MENOS3        int64\n",
       "NRO_ACCES_CANAL2_MENOS4        int64\n",
       "NRO_ACCES_CANAL2_MENOS5        int64\n",
       "NRO_ACCES_CANAL3_MENOS0        int64\n",
       "NRO_ACCES_CANAL3_MENOS1        int64\n",
       "NRO_ACCES_CANAL3_MENOS2        int64\n",
       "NRO_ACCES_CANAL3_MENOS3        int64\n",
       "NRO_ACCES_CANAL3_MENOS4        int64\n",
       "NRO_ACCES_CANAL3_MENOS5        int64\n",
       "NRO_ENTID_SSFF_MENOS0          int64\n",
       "NRO_ENTID_SSFF_MENOS1          int64\n",
       "NRO_ENTID_SSFF_MENOS2          int64\n",
       "NRO_ENTID_SSFF_MENOS3          int64\n",
       "NRO_ENTID_SSFF_MENOS4          int64\n",
       "NRO_ENTID_SSFF_MENOS5          int64\n",
       "FLG_SDO_OTSSFF_MENOS0          int64\n",
       "FLG_SDO_OTSSFF_MENOS1          int64\n",
       "FLG_SDO_OTSSFF_MENOS2          int64\n",
       "FLG_SDO_OTSSFF_MENOS3          int64\n",
       "FLG_SDO_OTSSFF_MENOS4          int64\n",
       "FLG_SDO_OTSSFF_MENOS5          int64\n",
       "dtype: object"
      ]
     },
     "execution_count": 12,
     "metadata": {},
     "output_type": "execute_result"
    }
   ],
   "source": [
    "df_train_clientes.dtypes"
   ]
  },
  {
   "cell_type": "code",
   "execution_count": 7,
   "metadata": {},
   "outputs": [
    {
     "data": {
      "text/html": [
       "<div>\n",
       "<style scoped>\n",
       "    .dataframe tbody tr th:only-of-type {\n",
       "        vertical-align: middle;\n",
       "    }\n",
       "\n",
       "    .dataframe tbody tr th {\n",
       "        vertical-align: top;\n",
       "    }\n",
       "\n",
       "    .dataframe thead th {\n",
       "        text-align: right;\n",
       "    }\n",
       "</style>\n",
       "<table border=\"1\" class=\"dataframe\">\n",
       "  <thead>\n",
       "    <tr style=\"text-align: right;\">\n",
       "      <th></th>\n",
       "      <th>ID_CORRELATIVO</th>\n",
       "      <th>CODMES</th>\n",
       "      <th>FLG_BANCARIZADO</th>\n",
       "      <th>RANG_INGRESO</th>\n",
       "      <th>FLAG_LIMA_PROVINCIA</th>\n",
       "      <th>EDAD</th>\n",
       "      <th>ANTIGUEDAD</th>\n",
       "      <th>ATTRITION</th>\n",
       "      <th>RANG_SDO_PASIVO_MENOS0</th>\n",
       "      <th>SDO_ACTIVO_MENOS0</th>\n",
       "      <th>...</th>\n",
       "      <th>NRO_ENTID_SSFF_MENOS2</th>\n",
       "      <th>NRO_ENTID_SSFF_MENOS3</th>\n",
       "      <th>NRO_ENTID_SSFF_MENOS4</th>\n",
       "      <th>NRO_ENTID_SSFF_MENOS5</th>\n",
       "      <th>FLG_SDO_OTSSFF_MENOS0</th>\n",
       "      <th>FLG_SDO_OTSSFF_MENOS1</th>\n",
       "      <th>FLG_SDO_OTSSFF_MENOS2</th>\n",
       "      <th>FLG_SDO_OTSSFF_MENOS3</th>\n",
       "      <th>FLG_SDO_OTSSFF_MENOS4</th>\n",
       "      <th>FLG_SDO_OTSSFF_MENOS5</th>\n",
       "    </tr>\n",
       "  </thead>\n",
       "  <tbody>\n",
       "    <tr>\n",
       "      <th>0</th>\n",
       "      <td>35653</td>\n",
       "      <td>201208</td>\n",
       "      <td>1</td>\n",
       "      <td>Rang_ingreso_06</td>\n",
       "      <td>Lima</td>\n",
       "      <td>25.0</td>\n",
       "      <td>6.0</td>\n",
       "      <td>0</td>\n",
       "      <td>Rango_SDO_09</td>\n",
       "      <td>0</td>\n",
       "      <td>...</td>\n",
       "      <td>1</td>\n",
       "      <td>1</td>\n",
       "      <td>1</td>\n",
       "      <td>1</td>\n",
       "      <td>1</td>\n",
       "      <td>0</td>\n",
       "      <td>0</td>\n",
       "      <td>0</td>\n",
       "      <td>0</td>\n",
       "      <td>0</td>\n",
       "    </tr>\n",
       "    <tr>\n",
       "      <th>1</th>\n",
       "      <td>66575</td>\n",
       "      <td>201208</td>\n",
       "      <td>1</td>\n",
       "      <td>Rang_ingreso_03</td>\n",
       "      <td>Provincia</td>\n",
       "      <td>27.0</td>\n",
       "      <td>0.0</td>\n",
       "      <td>0</td>\n",
       "      <td>Rango_SDO_01</td>\n",
       "      <td>0</td>\n",
       "      <td>...</td>\n",
       "      <td>1</td>\n",
       "      <td>1</td>\n",
       "      <td>1</td>\n",
       "      <td>1</td>\n",
       "      <td>0</td>\n",
       "      <td>0</td>\n",
       "      <td>0</td>\n",
       "      <td>0</td>\n",
       "      <td>0</td>\n",
       "      <td>0</td>\n",
       "    </tr>\n",
       "    <tr>\n",
       "      <th>2</th>\n",
       "      <td>56800</td>\n",
       "      <td>201208</td>\n",
       "      <td>1</td>\n",
       "      <td>Rang_ingreso_01</td>\n",
       "      <td>Provincia</td>\n",
       "      <td>34.0</td>\n",
       "      <td>4.0</td>\n",
       "      <td>0</td>\n",
       "      <td>Rango_SDO_02</td>\n",
       "      <td>0</td>\n",
       "      <td>...</td>\n",
       "      <td>0</td>\n",
       "      <td>0</td>\n",
       "      <td>0</td>\n",
       "      <td>0</td>\n",
       "      <td>0</td>\n",
       "      <td>0</td>\n",
       "      <td>0</td>\n",
       "      <td>0</td>\n",
       "      <td>0</td>\n",
       "      <td>0</td>\n",
       "    </tr>\n",
       "    <tr>\n",
       "      <th>3</th>\n",
       "      <td>8410</td>\n",
       "      <td>201208</td>\n",
       "      <td>1</td>\n",
       "      <td>Rang_ingreso_04</td>\n",
       "      <td>Provincia</td>\n",
       "      <td>63.0</td>\n",
       "      <td>5.0</td>\n",
       "      <td>0</td>\n",
       "      <td>Rango_SDO_03</td>\n",
       "      <td>0</td>\n",
       "      <td>...</td>\n",
       "      <td>3</td>\n",
       "      <td>3</td>\n",
       "      <td>3</td>\n",
       "      <td>3</td>\n",
       "      <td>1</td>\n",
       "      <td>1</td>\n",
       "      <td>1</td>\n",
       "      <td>1</td>\n",
       "      <td>1</td>\n",
       "      <td>1</td>\n",
       "    </tr>\n",
       "    <tr>\n",
       "      <th>4</th>\n",
       "      <td>6853</td>\n",
       "      <td>201208</td>\n",
       "      <td>1</td>\n",
       "      <td>NaN</td>\n",
       "      <td>Lima</td>\n",
       "      <td>25.0</td>\n",
       "      <td>0.0</td>\n",
       "      <td>0</td>\n",
       "      <td>Rango_SDO_01</td>\n",
       "      <td>0</td>\n",
       "      <td>...</td>\n",
       "      <td>0</td>\n",
       "      <td>0</td>\n",
       "      <td>0</td>\n",
       "      <td>0</td>\n",
       "      <td>0</td>\n",
       "      <td>0</td>\n",
       "      <td>0</td>\n",
       "      <td>0</td>\n",
       "      <td>0</td>\n",
       "      <td>0</td>\n",
       "    </tr>\n",
       "  </tbody>\n",
       "</table>\n",
       "<p>5 rows × 53 columns</p>\n",
       "</div>"
      ],
      "text/plain": [
       "   ID_CORRELATIVO  CODMES  FLG_BANCARIZADO     RANG_INGRESO  \\\n",
       "0           35653  201208                1  Rang_ingreso_06   \n",
       "1           66575  201208                1  Rang_ingreso_03   \n",
       "2           56800  201208                1  Rang_ingreso_01   \n",
       "3            8410  201208                1  Rang_ingreso_04   \n",
       "4            6853  201208                1              NaN   \n",
       "\n",
       "  FLAG_LIMA_PROVINCIA  EDAD  ANTIGUEDAD  ATTRITION RANG_SDO_PASIVO_MENOS0  \\\n",
       "0                Lima  25.0         6.0          0           Rango_SDO_09   \n",
       "1           Provincia  27.0         0.0          0           Rango_SDO_01   \n",
       "2           Provincia  34.0         4.0          0           Rango_SDO_02   \n",
       "3           Provincia  63.0         5.0          0           Rango_SDO_03   \n",
       "4                Lima  25.0         0.0          0           Rango_SDO_01   \n",
       "\n",
       "   SDO_ACTIVO_MENOS0          ...            NRO_ENTID_SSFF_MENOS2  \\\n",
       "0                  0          ...                                1   \n",
       "1                  0          ...                                1   \n",
       "2                  0          ...                                0   \n",
       "3                  0          ...                                3   \n",
       "4                  0          ...                                0   \n",
       "\n",
       "   NRO_ENTID_SSFF_MENOS3  NRO_ENTID_SSFF_MENOS4  NRO_ENTID_SSFF_MENOS5  \\\n",
       "0                      1                      1                      1   \n",
       "1                      1                      1                      1   \n",
       "2                      0                      0                      0   \n",
       "3                      3                      3                      3   \n",
       "4                      0                      0                      0   \n",
       "\n",
       "   FLG_SDO_OTSSFF_MENOS0  FLG_SDO_OTSSFF_MENOS1  FLG_SDO_OTSSFF_MENOS2  \\\n",
       "0                      1                      0                      0   \n",
       "1                      0                      0                      0   \n",
       "2                      0                      0                      0   \n",
       "3                      1                      1                      1   \n",
       "4                      0                      0                      0   \n",
       "\n",
       "   FLG_SDO_OTSSFF_MENOS3  FLG_SDO_OTSSFF_MENOS4  FLG_SDO_OTSSFF_MENOS5  \n",
       "0                      0                      0                      0  \n",
       "1                      0                      0                      0  \n",
       "2                      0                      0                      0  \n",
       "3                      1                      1                      1  \n",
       "4                      0                      0                      0  \n",
       "\n",
       "[5 rows x 53 columns]"
      ]
     },
     "execution_count": 7,
     "metadata": {},
     "output_type": "execute_result"
    }
   ],
   "source": [
    "# Damos una vista previa a nuestros datos\n",
    "df_train_clientes.head(5)"
   ]
  },
  {
   "cell_type": "code",
   "execution_count": 10,
   "metadata": {
    "scrolled": true
   },
   "outputs": [
    {
     "data": {
      "text/plain": [
       "ID_CORRELATIVO                 int64\n",
       "CODMES                         int64\n",
       "FLG_BANCARIZADO                int64\n",
       "RANG_INGRESO                  object\n",
       "FLAG_LIMA_PROVINCIA           object\n",
       "EDAD                         float64\n",
       "ANTIGUEDAD                   float64\n",
       "ATTRITION                      int64\n",
       "RANG_SDO_PASIVO_MENOS0        object\n",
       "SDO_ACTIVO_MENOS0              int64\n",
       "SDO_ACTIVO_MENOS1              int64\n",
       "SDO_ACTIVO_MENOS2              int64\n",
       "SDO_ACTIVO_MENOS3              int64\n",
       "SDO_ACTIVO_MENOS4              int64\n",
       "SDO_ACTIVO_MENOS5              int64\n",
       "FLG_SEGURO_MENOS0              int64\n",
       "FLG_SEGURO_MENOS1              int64\n",
       "FLG_SEGURO_MENOS2              int64\n",
       "FLG_SEGURO_MENOS3              int64\n",
       "FLG_SEGURO_MENOS4              int64\n",
       "FLG_SEGURO_MENOS5              int64\n",
       "RANG_NRO_PRODUCTOS_MENOS0     object\n",
       "FLG_NOMINA                     int64\n",
       "NRO_ACCES_CANAL1_MENOS0        int64\n",
       "NRO_ACCES_CANAL1_MENOS1        int64\n",
       "NRO_ACCES_CANAL1_MENOS2        int64\n",
       "NRO_ACCES_CANAL1_MENOS3        int64\n",
       "NRO_ACCES_CANAL1_MENOS4        int64\n",
       "NRO_ACCES_CANAL1_MENOS5        int64\n",
       "NRO_ACCES_CANAL2_MENOS0        int64\n",
       "NRO_ACCES_CANAL2_MENOS1        int64\n",
       "NRO_ACCES_CANAL2_MENOS2        int64\n",
       "NRO_ACCES_CANAL2_MENOS3        int64\n",
       "NRO_ACCES_CANAL2_MENOS4        int64\n",
       "NRO_ACCES_CANAL2_MENOS5        int64\n",
       "NRO_ACCES_CANAL3_MENOS0        int64\n",
       "NRO_ACCES_CANAL3_MENOS1        int64\n",
       "NRO_ACCES_CANAL3_MENOS2        int64\n",
       "NRO_ACCES_CANAL3_MENOS3        int64\n",
       "NRO_ACCES_CANAL3_MENOS4        int64\n",
       "NRO_ACCES_CANAL3_MENOS5        int64\n",
       "NRO_ENTID_SSFF_MENOS0          int64\n",
       "NRO_ENTID_SSFF_MENOS1          int64\n",
       "NRO_ENTID_SSFF_MENOS2          int64\n",
       "NRO_ENTID_SSFF_MENOS3          int64\n",
       "NRO_ENTID_SSFF_MENOS4          int64\n",
       "NRO_ENTID_SSFF_MENOS5          int64\n",
       "FLG_SDO_OTSSFF_MENOS0          int64\n",
       "FLG_SDO_OTSSFF_MENOS1          int64\n",
       "FLG_SDO_OTSSFF_MENOS2          int64\n",
       "FLG_SDO_OTSSFF_MENOS3          int64\n",
       "FLG_SDO_OTSSFF_MENOS4          int64\n",
       "FLG_SDO_OTSSFF_MENOS5          int64\n",
       "dtype: object"
      ]
     },
     "execution_count": 10,
     "metadata": {},
     "output_type": "execute_result"
    }
   ],
   "source": [
    "# Reconocer qué tipo de datos tenemos\n",
    "df_train_clientes.dtypes"
   ]
  },
  {
   "cell_type": "code",
   "execution_count": 13,
   "metadata": {},
   "outputs": [
    {
     "data": {
      "text/html": [
       "<div>\n",
       "<style scoped>\n",
       "    .dataframe tbody tr th:only-of-type {\n",
       "        vertical-align: middle;\n",
       "    }\n",
       "\n",
       "    .dataframe tbody tr th {\n",
       "        vertical-align: top;\n",
       "    }\n",
       "\n",
       "    .dataframe thead th {\n",
       "        text-align: right;\n",
       "    }\n",
       "</style>\n",
       "<table border=\"1\" class=\"dataframe\">\n",
       "  <thead>\n",
       "    <tr style=\"text-align: right;\">\n",
       "      <th></th>\n",
       "      <th>CODMES</th>\n",
       "      <th>FLG_BANCARIZADO</th>\n",
       "      <th>EDAD</th>\n",
       "      <th>ANTIGUEDAD</th>\n",
       "      <th>ATTRITION</th>\n",
       "      <th>SDO_ACTIVO_MENOS0</th>\n",
       "      <th>SDO_ACTIVO_MENOS1</th>\n",
       "      <th>SDO_ACTIVO_MENOS2</th>\n",
       "      <th>SDO_ACTIVO_MENOS3</th>\n",
       "      <th>SDO_ACTIVO_MENOS4</th>\n",
       "      <th>...</th>\n",
       "      <th>NRO_ENTID_SSFF_MENOS2</th>\n",
       "      <th>NRO_ENTID_SSFF_MENOS3</th>\n",
       "      <th>NRO_ENTID_SSFF_MENOS4</th>\n",
       "      <th>NRO_ENTID_SSFF_MENOS5</th>\n",
       "      <th>FLG_SDO_OTSSFF_MENOS0</th>\n",
       "      <th>FLG_SDO_OTSSFF_MENOS1</th>\n",
       "      <th>FLG_SDO_OTSSFF_MENOS2</th>\n",
       "      <th>FLG_SDO_OTSSFF_MENOS3</th>\n",
       "      <th>FLG_SDO_OTSSFF_MENOS4</th>\n",
       "      <th>FLG_SDO_OTSSFF_MENOS5</th>\n",
       "    </tr>\n",
       "  </thead>\n",
       "  <tbody>\n",
       "    <tr>\n",
       "      <th>count</th>\n",
       "      <td>70000.0</td>\n",
       "      <td>70000.000000</td>\n",
       "      <td>64674.000000</td>\n",
       "      <td>68238.000000</td>\n",
       "      <td>70000.000000</td>\n",
       "      <td>7.000000e+04</td>\n",
       "      <td>7.000000e+04</td>\n",
       "      <td>7.000000e+04</td>\n",
       "      <td>7.000000e+04</td>\n",
       "      <td>7.000000e+04</td>\n",
       "      <td>...</td>\n",
       "      <td>70000.000000</td>\n",
       "      <td>70000.000000</td>\n",
       "      <td>70000.000000</td>\n",
       "      <td>70000.000000</td>\n",
       "      <td>70000.000000</td>\n",
       "      <td>70000.000000</td>\n",
       "      <td>70000.000000</td>\n",
       "      <td>70000.000000</td>\n",
       "      <td>70000.000000</td>\n",
       "      <td>70000.000000</td>\n",
       "    </tr>\n",
       "    <tr>\n",
       "      <th>mean</th>\n",
       "      <td>201208.0</td>\n",
       "      <td>0.839043</td>\n",
       "      <td>35.232474</td>\n",
       "      <td>2.549283</td>\n",
       "      <td>0.154600</td>\n",
       "      <td>9.650613e+03</td>\n",
       "      <td>9.389334e+03</td>\n",
       "      <td>9.017541e+03</td>\n",
       "      <td>8.678497e+03</td>\n",
       "      <td>8.477068e+03</td>\n",
       "      <td>...</td>\n",
       "      <td>1.968014</td>\n",
       "      <td>1.928971</td>\n",
       "      <td>1.873600</td>\n",
       "      <td>1.854386</td>\n",
       "      <td>0.538400</td>\n",
       "      <td>0.536557</td>\n",
       "      <td>0.537843</td>\n",
       "      <td>0.535414</td>\n",
       "      <td>0.530657</td>\n",
       "      <td>0.527686</td>\n",
       "    </tr>\n",
       "    <tr>\n",
       "      <th>std</th>\n",
       "      <td>0.0</td>\n",
       "      <td>0.367494</td>\n",
       "      <td>11.536038</td>\n",
       "      <td>3.205424</td>\n",
       "      <td>0.361526</td>\n",
       "      <td>9.971066e+04</td>\n",
       "      <td>9.893696e+04</td>\n",
       "      <td>9.653027e+04</td>\n",
       "      <td>9.415682e+04</td>\n",
       "      <td>8.755091e+04</td>\n",
       "      <td>...</td>\n",
       "      <td>1.907792</td>\n",
       "      <td>1.889000</td>\n",
       "      <td>1.869672</td>\n",
       "      <td>1.853515</td>\n",
       "      <td>0.498527</td>\n",
       "      <td>0.498665</td>\n",
       "      <td>0.498569</td>\n",
       "      <td>0.498748</td>\n",
       "      <td>0.499063</td>\n",
       "      <td>0.499236</td>\n",
       "    </tr>\n",
       "    <tr>\n",
       "      <th>min</th>\n",
       "      <td>201208.0</td>\n",
       "      <td>0.000000</td>\n",
       "      <td>18.000000</td>\n",
       "      <td>0.000000</td>\n",
       "      <td>0.000000</td>\n",
       "      <td>0.000000e+00</td>\n",
       "      <td>0.000000e+00</td>\n",
       "      <td>0.000000e+00</td>\n",
       "      <td>0.000000e+00</td>\n",
       "      <td>0.000000e+00</td>\n",
       "      <td>...</td>\n",
       "      <td>0.000000</td>\n",
       "      <td>0.000000</td>\n",
       "      <td>0.000000</td>\n",
       "      <td>0.000000</td>\n",
       "      <td>0.000000</td>\n",
       "      <td>0.000000</td>\n",
       "      <td>0.000000</td>\n",
       "      <td>0.000000</td>\n",
       "      <td>0.000000</td>\n",
       "      <td>0.000000</td>\n",
       "    </tr>\n",
       "    <tr>\n",
       "      <th>25%</th>\n",
       "      <td>201208.0</td>\n",
       "      <td>1.000000</td>\n",
       "      <td>27.000000</td>\n",
       "      <td>0.000000</td>\n",
       "      <td>0.000000</td>\n",
       "      <td>0.000000e+00</td>\n",
       "      <td>0.000000e+00</td>\n",
       "      <td>0.000000e+00</td>\n",
       "      <td>0.000000e+00</td>\n",
       "      <td>0.000000e+00</td>\n",
       "      <td>...</td>\n",
       "      <td>0.000000</td>\n",
       "      <td>0.000000</td>\n",
       "      <td>0.000000</td>\n",
       "      <td>0.000000</td>\n",
       "      <td>0.000000</td>\n",
       "      <td>0.000000</td>\n",
       "      <td>0.000000</td>\n",
       "      <td>0.000000</td>\n",
       "      <td>0.000000</td>\n",
       "      <td>0.000000</td>\n",
       "    </tr>\n",
       "    <tr>\n",
       "      <th>50%</th>\n",
       "      <td>201208.0</td>\n",
       "      <td>1.000000</td>\n",
       "      <td>32.000000</td>\n",
       "      <td>0.000000</td>\n",
       "      <td>0.000000</td>\n",
       "      <td>0.000000e+00</td>\n",
       "      <td>0.000000e+00</td>\n",
       "      <td>0.000000e+00</td>\n",
       "      <td>0.000000e+00</td>\n",
       "      <td>0.000000e+00</td>\n",
       "      <td>...</td>\n",
       "      <td>2.000000</td>\n",
       "      <td>2.000000</td>\n",
       "      <td>1.000000</td>\n",
       "      <td>1.000000</td>\n",
       "      <td>1.000000</td>\n",
       "      <td>1.000000</td>\n",
       "      <td>1.000000</td>\n",
       "      <td>1.000000</td>\n",
       "      <td>1.000000</td>\n",
       "      <td>1.000000</td>\n",
       "    </tr>\n",
       "    <tr>\n",
       "      <th>75%</th>\n",
       "      <td>201208.0</td>\n",
       "      <td>1.000000</td>\n",
       "      <td>41.000000</td>\n",
       "      <td>5.000000</td>\n",
       "      <td>0.000000</td>\n",
       "      <td>0.000000e+00</td>\n",
       "      <td>0.000000e+00</td>\n",
       "      <td>0.000000e+00</td>\n",
       "      <td>0.000000e+00</td>\n",
       "      <td>0.000000e+00</td>\n",
       "      <td>...</td>\n",
       "      <td>3.000000</td>\n",
       "      <td>3.000000</td>\n",
       "      <td>3.000000</td>\n",
       "      <td>3.000000</td>\n",
       "      <td>1.000000</td>\n",
       "      <td>1.000000</td>\n",
       "      <td>1.000000</td>\n",
       "      <td>1.000000</td>\n",
       "      <td>1.000000</td>\n",
       "      <td>1.000000</td>\n",
       "    </tr>\n",
       "    <tr>\n",
       "      <th>max</th>\n",
       "      <td>201208.0</td>\n",
       "      <td>1.000000</td>\n",
       "      <td>98.000000</td>\n",
       "      <td>23.000000</td>\n",
       "      <td>1.000000</td>\n",
       "      <td>1.134850e+07</td>\n",
       "      <td>1.128956e+07</td>\n",
       "      <td>1.130299e+07</td>\n",
       "      <td>1.070629e+07</td>\n",
       "      <td>1.062028e+07</td>\n",
       "      <td>...</td>\n",
       "      <td>11.000000</td>\n",
       "      <td>11.000000</td>\n",
       "      <td>11.000000</td>\n",
       "      <td>11.000000</td>\n",
       "      <td>1.000000</td>\n",
       "      <td>1.000000</td>\n",
       "      <td>1.000000</td>\n",
       "      <td>1.000000</td>\n",
       "      <td>1.000000</td>\n",
       "      <td>1.000000</td>\n",
       "    </tr>\n",
       "  </tbody>\n",
       "</table>\n",
       "<p>8 rows × 48 columns</p>\n",
       "</div>"
      ],
      "text/plain": [
       "         CODMES  FLG_BANCARIZADO          EDAD    ANTIGUEDAD     ATTRITION  \\\n",
       "count   70000.0     70000.000000  64674.000000  68238.000000  70000.000000   \n",
       "mean   201208.0         0.839043     35.232474      2.549283      0.154600   \n",
       "std         0.0         0.367494     11.536038      3.205424      0.361526   \n",
       "min    201208.0         0.000000     18.000000      0.000000      0.000000   \n",
       "25%    201208.0         1.000000     27.000000      0.000000      0.000000   \n",
       "50%    201208.0         1.000000     32.000000      0.000000      0.000000   \n",
       "75%    201208.0         1.000000     41.000000      5.000000      0.000000   \n",
       "max    201208.0         1.000000     98.000000     23.000000      1.000000   \n",
       "\n",
       "       SDO_ACTIVO_MENOS0  SDO_ACTIVO_MENOS1  SDO_ACTIVO_MENOS2  \\\n",
       "count       7.000000e+04       7.000000e+04       7.000000e+04   \n",
       "mean        9.650613e+03       9.389334e+03       9.017541e+03   \n",
       "std         9.971066e+04       9.893696e+04       9.653027e+04   \n",
       "min         0.000000e+00       0.000000e+00       0.000000e+00   \n",
       "25%         0.000000e+00       0.000000e+00       0.000000e+00   \n",
       "50%         0.000000e+00       0.000000e+00       0.000000e+00   \n",
       "75%         0.000000e+00       0.000000e+00       0.000000e+00   \n",
       "max         1.134850e+07       1.128956e+07       1.130299e+07   \n",
       "\n",
       "       SDO_ACTIVO_MENOS3  SDO_ACTIVO_MENOS4          ...            \\\n",
       "count       7.000000e+04       7.000000e+04          ...             \n",
       "mean        8.678497e+03       8.477068e+03          ...             \n",
       "std         9.415682e+04       8.755091e+04          ...             \n",
       "min         0.000000e+00       0.000000e+00          ...             \n",
       "25%         0.000000e+00       0.000000e+00          ...             \n",
       "50%         0.000000e+00       0.000000e+00          ...             \n",
       "75%         0.000000e+00       0.000000e+00          ...             \n",
       "max         1.070629e+07       1.062028e+07          ...             \n",
       "\n",
       "       NRO_ENTID_SSFF_MENOS2  NRO_ENTID_SSFF_MENOS3  NRO_ENTID_SSFF_MENOS4  \\\n",
       "count           70000.000000           70000.000000           70000.000000   \n",
       "mean                1.968014               1.928971               1.873600   \n",
       "std                 1.907792               1.889000               1.869672   \n",
       "min                 0.000000               0.000000               0.000000   \n",
       "25%                 0.000000               0.000000               0.000000   \n",
       "50%                 2.000000               2.000000               1.000000   \n",
       "75%                 3.000000               3.000000               3.000000   \n",
       "max                11.000000              11.000000              11.000000   \n",
       "\n",
       "       NRO_ENTID_SSFF_MENOS5  FLG_SDO_OTSSFF_MENOS0  FLG_SDO_OTSSFF_MENOS1  \\\n",
       "count           70000.000000           70000.000000           70000.000000   \n",
       "mean                1.854386               0.538400               0.536557   \n",
       "std                 1.853515               0.498527               0.498665   \n",
       "min                 0.000000               0.000000               0.000000   \n",
       "25%                 0.000000               0.000000               0.000000   \n",
       "50%                 1.000000               1.000000               1.000000   \n",
       "75%                 3.000000               1.000000               1.000000   \n",
       "max                11.000000               1.000000               1.000000   \n",
       "\n",
       "       FLG_SDO_OTSSFF_MENOS2  FLG_SDO_OTSSFF_MENOS3  FLG_SDO_OTSSFF_MENOS4  \\\n",
       "count           70000.000000           70000.000000           70000.000000   \n",
       "mean                0.537843               0.535414               0.530657   \n",
       "std                 0.498569               0.498748               0.499063   \n",
       "min                 0.000000               0.000000               0.000000   \n",
       "25%                 0.000000               0.000000               0.000000   \n",
       "50%                 1.000000               1.000000               1.000000   \n",
       "75%                 1.000000               1.000000               1.000000   \n",
       "max                 1.000000               1.000000               1.000000   \n",
       "\n",
       "       FLG_SDO_OTSSFF_MENOS5  \n",
       "count           70000.000000  \n",
       "mean                0.527686  \n",
       "std                 0.499236  \n",
       "min                 0.000000  \n",
       "25%                 0.000000  \n",
       "50%                 1.000000  \n",
       "75%                 1.000000  \n",
       "max                 1.000000  \n",
       "\n",
       "[8 rows x 48 columns]"
      ]
     },
     "execution_count": 13,
     "metadata": {},
     "output_type": "execute_result"
    }
   ],
   "source": [
    "df_train_clientes.describe()"
   ]
  },
  {
   "cell_type": "code",
   "execution_count": 16,
   "metadata": {},
   "outputs": [
    {
     "data": {
      "text/plain": [
       "70000"
      ]
     },
     "execution_count": 16,
     "metadata": {},
     "output_type": "execute_result"
    }
   ],
   "source": [
    "len(df_train_clientes)"
   ]
  },
  {
   "cell_type": "code",
   "execution_count": 17,
   "metadata": {
    "scrolled": true
   },
   "outputs": [
    {
     "data": {
      "text/plain": [
       "ID_CORRELATIVO               0.000000\n",
       "CODMES                       0.000000\n",
       "FLG_BANCARIZADO              0.000000\n",
       "RANG_INGRESO                 0.134529\n",
       "FLAG_LIMA_PROVINCIA          0.048371\n",
       "EDAD                         0.076086\n",
       "ANTIGUEDAD                   0.025171\n",
       "ATTRITION                    0.000000\n",
       "RANG_SDO_PASIVO_MENOS0       0.000000\n",
       "SDO_ACTIVO_MENOS0            0.000000\n",
       "SDO_ACTIVO_MENOS1            0.000000\n",
       "SDO_ACTIVO_MENOS2            0.000000\n",
       "SDO_ACTIVO_MENOS3            0.000000\n",
       "SDO_ACTIVO_MENOS4            0.000000\n",
       "SDO_ACTIVO_MENOS5            0.000000\n",
       "FLG_SEGURO_MENOS0            0.000000\n",
       "FLG_SEGURO_MENOS1            0.000000\n",
       "FLG_SEGURO_MENOS2            0.000000\n",
       "FLG_SEGURO_MENOS3            0.000000\n",
       "FLG_SEGURO_MENOS4            0.000000\n",
       "FLG_SEGURO_MENOS5            0.000000\n",
       "RANG_NRO_PRODUCTOS_MENOS0    0.000000\n",
       "FLG_NOMINA                   0.000000\n",
       "NRO_ACCES_CANAL1_MENOS0      0.000000\n",
       "NRO_ACCES_CANAL1_MENOS1      0.000000\n",
       "NRO_ACCES_CANAL1_MENOS2      0.000000\n",
       "NRO_ACCES_CANAL1_MENOS3      0.000000\n",
       "NRO_ACCES_CANAL1_MENOS4      0.000000\n",
       "NRO_ACCES_CANAL1_MENOS5      0.000000\n",
       "NRO_ACCES_CANAL2_MENOS0      0.000000\n",
       "NRO_ACCES_CANAL2_MENOS1      0.000000\n",
       "NRO_ACCES_CANAL2_MENOS2      0.000000\n",
       "NRO_ACCES_CANAL2_MENOS3      0.000000\n",
       "NRO_ACCES_CANAL2_MENOS4      0.000000\n",
       "NRO_ACCES_CANAL2_MENOS5      0.000000\n",
       "NRO_ACCES_CANAL3_MENOS0      0.000000\n",
       "NRO_ACCES_CANAL3_MENOS1      0.000000\n",
       "NRO_ACCES_CANAL3_MENOS2      0.000000\n",
       "NRO_ACCES_CANAL3_MENOS3      0.000000\n",
       "NRO_ACCES_CANAL3_MENOS4      0.000000\n",
       "NRO_ACCES_CANAL3_MENOS5      0.000000\n",
       "NRO_ENTID_SSFF_MENOS0        0.000000\n",
       "NRO_ENTID_SSFF_MENOS1        0.000000\n",
       "NRO_ENTID_SSFF_MENOS2        0.000000\n",
       "NRO_ENTID_SSFF_MENOS3        0.000000\n",
       "NRO_ENTID_SSFF_MENOS4        0.000000\n",
       "NRO_ENTID_SSFF_MENOS5        0.000000\n",
       "FLG_SDO_OTSSFF_MENOS0        0.000000\n",
       "FLG_SDO_OTSSFF_MENOS1        0.000000\n",
       "FLG_SDO_OTSSFF_MENOS2        0.000000\n",
       "FLG_SDO_OTSSFF_MENOS3        0.000000\n",
       "FLG_SDO_OTSSFF_MENOS4        0.000000\n",
       "FLG_SDO_OTSSFF_MENOS5        0.000000\n",
       "dtype: float64"
      ]
     },
     "execution_count": 17,
     "metadata": {},
     "output_type": "execute_result"
    }
   ],
   "source": [
    "# Cantidad de missing por variable\n",
    "df_train_clientes.isnull().sum()/len(df_train_clientes)"
   ]
  },
  {
   "cell_type": "markdown",
   "metadata": {},
   "source": [
    "### 3.1.1 Si nuestra variable es numérica"
   ]
  },
  {
   "cell_type": "code",
   "execution_count": 1,
   "metadata": {
    "scrolled": false
   },
   "outputs": [],
   "source": [
    "#!pip install seaborn"
   ]
  },
  {
   "cell_type": "code",
   "execution_count": 18,
   "metadata": {},
   "outputs": [],
   "source": [
    "import seaborn as sns"
   ]
  },
  {
   "cell_type": "markdown",
   "metadata": {},
   "source": [
    "#### Histogramas\n",
    "\n",
    "Un histograma es una representación gráfica de la distribución de datos numéricos. Toma como input una variable numérica. La variable se corta en varios bins, y el número de observación por bins está representado por la altura de la barra. Tenga en cuenta que la forma del histograma puede ser diferente dependiendo del número de bins que configure."
   ]
  },
  {
   "cell_type": "code",
   "execution_count": 19,
   "metadata": {
    "scrolled": true
   },
   "outputs": [
    {
     "data": {
      "text/plain": [
       "0         6.0\n",
       "1         0.0\n",
       "2         4.0\n",
       "3         5.0\n",
       "4         0.0\n",
       "5         0.0\n",
       "6         0.0\n",
       "7         0.0\n",
       "8         0.0\n",
       "9         7.0\n",
       "10        8.0\n",
       "11        5.0\n",
       "12       10.0\n",
       "13        3.0\n",
       "14        0.0\n",
       "15        2.0\n",
       "16        0.0\n",
       "17        0.0\n",
       "18        1.0\n",
       "19        0.0\n",
       "20        0.0\n",
       "21        NaN\n",
       "22        0.0\n",
       "23        0.0\n",
       "24        4.0\n",
       "25        NaN\n",
       "26        8.0\n",
       "27        0.0\n",
       "28        NaN\n",
       "29        0.0\n",
       "         ... \n",
       "69970     0.0\n",
       "69971     1.0\n",
       "69972     0.0\n",
       "69973     0.0\n",
       "69974    10.0\n",
       "69975     0.0\n",
       "69976     0.0\n",
       "69977     0.0\n",
       "69978     0.0\n",
       "69979     6.0\n",
       "69980     0.0\n",
       "69981     0.0\n",
       "69982     0.0\n",
       "69983     5.0\n",
       "69984     0.0\n",
       "69985     6.0\n",
       "69986     4.0\n",
       "69987     5.0\n",
       "69988     0.0\n",
       "69989     5.0\n",
       "69990     7.0\n",
       "69991     7.0\n",
       "69992     2.0\n",
       "69993     0.0\n",
       "69994     0.0\n",
       "69995     0.0\n",
       "69996     0.0\n",
       "69997     4.0\n",
       "69998     7.0\n",
       "69999     6.0\n",
       "Name: ANTIGUEDAD, Length: 70000, dtype: float64"
      ]
     },
     "execution_count": 19,
     "metadata": {},
     "output_type": "execute_result"
    }
   ],
   "source": [
    "df_train_clientes[\"ANTIGUEDAD\"]"
   ]
  },
  {
   "cell_type": "code",
   "execution_count": 25,
   "metadata": {},
   "outputs": [],
   "source": [
    "import numpy as np"
   ]
  },
  {
   "cell_type": "code",
   "execution_count": 44,
   "metadata": {},
   "outputs": [
    {
     "data": {
      "text/plain": [
       "ANTIGUEDAD\n",
       "0.0     34701\n",
       "1.0      3164\n",
       "2.0      3178\n",
       "3.0      3845\n",
       "4.0      4492\n",
       "5.0      4378\n",
       "6.0      3783\n",
       "7.0      2663\n",
       "8.0      2841\n",
       "9.0      3063\n",
       "10.0     2114\n",
       "12.0        3\n",
       "13.0        1\n",
       "14.0        1\n",
       "15.0        1\n",
       "16.0        1\n",
       "17.0        1\n",
       "18.0        1\n",
       "19.0        1\n",
       "20.0        5\n",
       "23.0        1\n",
       "dtype: int64"
      ]
     },
     "execution_count": 44,
     "metadata": {},
     "output_type": "execute_result"
    }
   ],
   "source": [
    "df_train_clientes.groupby('ANTIGUEDAD').size()"
   ]
  },
  {
   "cell_type": "code",
   "execution_count": 43,
   "metadata": {},
   "outputs": [
    {
     "name": "stderr",
     "output_type": "stream",
     "text": [
      "D:\\Programas\\anaconda3\\lib\\site-packages\\matplotlib\\axes\\_axes.py:6462: UserWarning: The 'normed' kwarg is deprecated, and has been replaced by the 'density' kwarg.\n",
      "  warnings.warn(\"The 'normed' kwarg is deprecated, and has been \"\n"
     ]
    },
    {
     "data": {
      "text/plain": [
       "<matplotlib.axes._subplots.AxesSubplot at 0x9e2eb38>"
      ]
     },
     "execution_count": 43,
     "metadata": {},
     "output_type": "execute_result"
    },
    {
     "data": {
      "image/png": "[encoded data removed]",
      "text/plain": [
       "<Figure size 432x288 with 1 Axes>"
      ]
     },
     "metadata": {},
     "output_type": "display_data"
    }
   ],
   "source": [
    "sns.distplot(df_train_clientes[\"ANTIGUEDAD\"].dropna())"
   ]
  },
  {
   "cell_type": "code",
   "execution_count": 34,
   "metadata": {
    "scrolled": true
   },
   "outputs": [],
   "source": [
    "# Trasformar la variable EDAD\n",
    "df_train_clientes['EDAD_log'] = np.log(df_train_clientes[\"EDAD\"])"
   ]
  },
  {
   "cell_type": "code",
   "execution_count": 35,
   "metadata": {
    "scrolled": false
   },
   "outputs": [
    {
     "name": "stderr",
     "output_type": "stream",
     "text": [
      "D:\\Programas\\anaconda3\\lib\\site-packages\\matplotlib\\axes\\_axes.py:6462: UserWarning: The 'normed' kwarg is deprecated, and has been replaced by the 'density' kwarg.\n",
      "  warnings.warn(\"The 'normed' kwarg is deprecated, and has been \"\n"
     ]
    },
    {
     "data": {
      "text/plain": [
       "<matplotlib.axes._subplots.AxesSubplot at 0x8d87dd8>"
      ]
     },
     "execution_count": 35,
     "metadata": {},
     "output_type": "execute_result"
    },
    {
     "data": {
      "image/png": "[encoded data removed]",
      "text/plain": [
       "<Figure size 432x288 with 1 Axes>"
      ]
     },
     "metadata": {},
     "output_type": "display_data"
    }
   ],
   "source": [
    "# Crar histogramas\n",
    "sns.distplot(np.log(df_train_clientes[\"EDAD\"].dropna()))"
   ]
  },
  {
   "cell_type": "code",
   "execution_count": 41,
   "metadata": {},
   "outputs": [
    {
     "name": "stderr",
     "output_type": "stream",
     "text": [
      "D:\\Programas\\anaconda3\\lib\\site-packages\\matplotlib\\axes\\_axes.py:6462: UserWarning: The 'normed' kwarg is deprecated, and has been replaced by the 'density' kwarg.\n",
      "  warnings.warn(\"The 'normed' kwarg is deprecated, and has been \"\n"
     ]
    },
    {
     "data": {
      "text/plain": [
       "<matplotlib.axes._subplots.AxesSubplot at 0x9ab7128>"
      ]
     },
     "execution_count": 41,
     "metadata": {},
     "output_type": "execute_result"
    },
    {
     "data": {
      "image/png": "[encoded data removed]",
      "text/plain": [
       "<Figure size 432x288 with 1 Axes>"
      ]
     },
     "metadata": {},
     "output_type": "display_data"
    }
   ],
   "source": [
    "# Control del numero de bins\n",
    "sns.distplot(df_train_clientes[\"EDAD\"].dropna())"
   ]
  },
  {
   "cell_type": "markdown",
   "metadata": {},
   "source": [
    "#### Diagrama de cajas\n",
    "\n",
    "Boxplot es uno de los tipos de gráficos más comunes. Da un buen resumen de una o varias variables numéricas. La línea que divide la caja en 2 partes representa la mediana de los datos. El final del cuadro muestra los cuartiles superior e inferior. Las líneas extremas muestran los valores más altos y más bajos sin incluir *valores atípicos*. Tenga en cuenta que boxplot oculta el número de valores existiendo detrás de la variable. Por lo tanto, se recomienda imprimir el número de observación."
   ]
  },
  {
   "cell_type": "code",
   "execution_count": 51,
   "metadata": {},
   "outputs": [
    {
     "data": {
      "text/plain": [
       "<matplotlib.axes._subplots.AxesSubplot at 0xa83bcf8>"
      ]
     },
     "execution_count": 51,
     "metadata": {},
     "output_type": "execute_result"
    },
    {
     "data": {
      "image/png": "[encoded data removed]",
      "text/plain": [
       "<Figure size 432x288 with 1 Axes>"
      ]
     },
     "metadata": {},
     "output_type": "display_data"
    }
   ],
   "source": [
    "sns.boxplot(x='ATTRITION', \n",
    "            y='ANTIGUEDAD', \n",
    "            data = df_train_clientes.dropna(),\n",
    "            palette=\"Reds\")"
   ]
  },
  {
   "cell_type": "code",
   "execution_count": 52,
   "metadata": {},
   "outputs": [
    {
     "data": {
      "text/plain": [
       "<matplotlib.axes._subplots.AxesSubplot at 0xad88160>"
      ]
     },
     "execution_count": 52,
     "metadata": {},
     "output_type": "execute_result"
    },
    {
     "data": {
      "image/png": "[encoded data removed]",
      "text/plain": [
       "<Figure size 432x288 with 1 Axes>"
      ]
     },
     "metadata": {},
     "output_type": "display_data"
    }
   ],
   "source": [
    "sns.boxplot(x=df_train_clientes['FLG_BANCARIZADO'], y=df_train_clientes['EDAD'], palette=\"Blues\")"
   ]
  },
  {
   "cell_type": "markdown",
   "metadata": {},
   "source": [
    "#### Scaterplot\n",
    "\n",
    "\n",
    "Un Scatterplot muestra el valor de 2 conjuntos de datos en 2 dimensiones. Cada punto representa una observación. La posición en los ejes X (horizontal) e Y (vertical) representa los valores de 2 variables. Es realmente útil estudiar la relación entre ambas variables."
   ]
  },
  {
   "cell_type": "code",
   "execution_count": 55,
   "metadata": {},
   "outputs": [
    {
     "data": {
      "text/plain": [
       "<matplotlib.axes._subplots.AxesSubplot at 0xae9c898>"
      ]
     },
     "execution_count": 55,
     "metadata": {},
     "output_type": "execute_result"
    },
    {
     "data": {
      "image/png": "[encoded data removed]",
      "text/plain": [
       "<Figure size 432x288 with 1 Axes>"
      ]
     },
     "metadata": {},
     "output_type": "display_data"
    }
   ],
   "source": [
    "sns.regplot(x=df_train_clientes['ANTIGUEDAD'], y=df_train_clientes['EDAD'], fit_reg=False)"
   ]
  },
  {
   "cell_type": "code",
   "execution_count": 59,
   "metadata": {},
   "outputs": [
    {
     "data": {
      "text/plain": [
       "<seaborn.axisgrid.FacetGrid at 0xb380d30>"
      ]
     },
     "execution_count": 59,
     "metadata": {},
     "output_type": "execute_result"
    },
    {
     "data": {
      "image/png": "[encoded data removed]",
      "text/plain": [
       "<Figure size 420.75x360 with 1 Axes>"
      ]
     },
     "metadata": {},
     "output_type": "display_data"
    }
   ],
   "source": [
    "# Usemos el argumento 'hue' para definir una la variable factor \n",
    "sns.lmplot(x=\"ANTIGUEDAD\", \n",
    "           y=\"EDAD\",\n",
    "           data=df_train_clientes, \n",
    "           fit_reg=False, \n",
    "           hue='ATTRITION',\n",
    "           legend=True)"
   ]
  },
  {
   "cell_type": "markdown",
   "metadata": {},
   "source": [
    "### 3.1.2 Si nuestra variable es categórica"
   ]
  },
  {
   "cell_type": "code",
   "execution_count": 24,
   "metadata": {
    "scrolled": true
   },
   "outputs": [
    {
     "data": {
      "text/html": [
       "<div>\n",
       "<style scoped>\n",
       "    .dataframe tbody tr th:only-of-type {\n",
       "        vertical-align: middle;\n",
       "    }\n",
       "\n",
       "    .dataframe tbody tr th {\n",
       "        vertical-align: top;\n",
       "    }\n",
       "\n",
       "    .dataframe thead th {\n",
       "        text-align: right;\n",
       "    }\n",
       "</style>\n",
       "<table border=\"1\" class=\"dataframe\">\n",
       "  <thead>\n",
       "    <tr style=\"text-align: right;\">\n",
       "      <th></th>\n",
       "      <th>EDAD</th>\n",
       "    </tr>\n",
       "    <tr>\n",
       "      <th>RANG_INGRESO</th>\n",
       "      <th></th>\n",
       "    </tr>\n",
       "  </thead>\n",
       "  <tbody>\n",
       "    <tr>\n",
       "      <th>Rang_ingreso_09</th>\n",
       "      <td>39.829338</td>\n",
       "    </tr>\n",
       "    <tr>\n",
       "      <th>Rang_ingreso_08</th>\n",
       "      <td>37.055507</td>\n",
       "    </tr>\n",
       "    <tr>\n",
       "      <th>Rang_ingreso_07</th>\n",
       "      <td>36.119689</td>\n",
       "    </tr>\n",
       "    <tr>\n",
       "      <th>Rang_ingreso_06</th>\n",
       "      <td>34.426853</td>\n",
       "    </tr>\n",
       "    <tr>\n",
       "      <th>Rang_ingreso_05</th>\n",
       "      <td>34.405054</td>\n",
       "    </tr>\n",
       "    <tr>\n",
       "      <th>Rang_ingreso_04</th>\n",
       "      <td>34.179202</td>\n",
       "    </tr>\n",
       "    <tr>\n",
       "      <th>Rang_ingreso_03</th>\n",
       "      <td>33.907349</td>\n",
       "    </tr>\n",
       "    <tr>\n",
       "      <th>Rang_ingreso_02</th>\n",
       "      <td>33.388182</td>\n",
       "    </tr>\n",
       "    <tr>\n",
       "      <th>Rang_ingreso_01</th>\n",
       "      <td>37.918461</td>\n",
       "    </tr>\n",
       "  </tbody>\n",
       "</table>\n",
       "</div>"
      ],
      "text/plain": [
       "                      EDAD\n",
       "RANG_INGRESO              \n",
       "Rang_ingreso_09  39.829338\n",
       "Rang_ingreso_08  37.055507\n",
       "Rang_ingreso_07  36.119689\n",
       "Rang_ingreso_06  34.426853\n",
       "Rang_ingreso_05  34.405054\n",
       "Rang_ingreso_04  34.179202\n",
       "Rang_ingreso_03  33.907349\n",
       "Rang_ingreso_02  33.388182\n",
       "Rang_ingreso_01  37.918461"
      ]
     },
     "execution_count": 24,
     "metadata": {},
     "output_type": "execute_result"
    }
   ],
   "source": [
    "# ¿Qué artista tiene mayor popularidad?\n",
    "df_train_clientes.groupby('RANG_INGRESO').agg({'EDAD':'mean'}).sort_values('RANG_INGRESO', ascending = False)"
   ]
  },
  {
   "cell_type": "markdown",
   "metadata": {},
   "source": [
    "#### Gráfico de barras\n",
    "\n",
    "Una barra de barras muestra la relación entre una variable numérica y una variable categórica. Cada entidad de la variable categórica se representa como una barra. El tamaño de la barra representa su valor numérico. "
   ]
  },
  {
   "cell_type": "code",
   "execution_count": 47,
   "metadata": {
    "scrolled": false
   },
   "outputs": [
    {
     "data": {
      "text/plain": [
       "[]"
      ]
     },
     "execution_count": 47,
     "metadata": {},
     "output_type": "execute_result"
    },
    {
     "data": {
      "image/png": "[encoded data removed]",
      "text/plain": [
       "<Figure size 360x360 with 1 Axes>"
      ]
     },
     "metadata": {},
     "output_type": "display_data"
    }
   ],
   "source": [
    "# Librerias\n",
    "import numpy as np\n",
    "import matplotlib.pyplot as plt\n",
    " \n",
    "# Crear las barras\n",
    "fig, ax = plt.subplots(1, figsize =(5,5)) \n",
    "g = sns.barplot(x=\"RANG_INGRESO\", y=\"EDAD\", data=df_train_clientes, hue=\"FLAG_LIMA_PROVINCIA\")\n",
    "plt.xticks(rotation=20)\n",
    "\n",
    "g.plot()"
   ]
  },
  {
   "cell_type": "markdown",
   "metadata": {},
   "source": [
    "#### Nube de palabras\n",
    "\n",
    "Un Wordcloud (o nube de etiquetas) muestra una lista de palabras. Este tipo de gráficos es útil para percibir rápidamente los términos más destacados. "
   ]
  },
  {
   "cell_type": "code",
   "execution_count": 44,
   "metadata": {
    "scrolled": true
   },
   "outputs": [],
   "source": [
    "# Recomendable ejecutarlo desde consola\n",
    "!pip install wordcloud"
   ]
  },
  {
   "cell_type": "code",
   "execution_count": null,
   "metadata": {},
   "outputs": [],
   "source": [
    "conda install -c conda-forge wordcloud"
   ]
  },
  {
   "cell_type": "code",
   "execution_count": 2,
   "metadata": {},
   "outputs": [],
   "source": [
    "from wordcloud import WordCloud\n",
    "import matplotlib.pyplot as plt"
   ]
  },
  {
   "cell_type": "code",
   "execution_count": 3,
   "metadata": {},
   "outputs": [],
   "source": [
    "df_spfy = pd.read_csv('../data/data_spotify.csv')"
   ]
  },
  {
   "cell_type": "code",
   "execution_count": 4,
   "metadata": {},
   "outputs": [],
   "source": [
    "text = [i if pd.notna(i) else '' for i in df_spfy['genres']]"
   ]
  },
  {
   "cell_type": "code",
   "execution_count": 5,
   "metadata": {
    "scrolled": true
   },
   "outputs": [],
   "source": [
    "text = ';'.join(text)"
   ]
  },
  {
   "cell_type": "code",
   "execution_count": 8,
   "metadata": {},
   "outputs": [
    {
     "data": {
      "text/plain": [
       "str"
      ]
     },
     "execution_count": 8,
     "metadata": {},
     "output_type": "execute_result"
    }
   ],
   "source": [
    "type(text)"
   ]
  },
  {
   "cell_type": "code",
   "execution_count": 9,
   "metadata": {},
   "outputs": [
    {
     "data": {
      "image/png": "[encoded data removed]",
      "text/plain": [
       "<Figure size 432x288 with 1 Axes>"
      ]
     },
     "metadata": {},
     "output_type": "display_data"
    }
   ],
   "source": [
    "# Crear el objeto wordcloud\n",
    "wordcloud = WordCloud(width=900, height=880).generate(text)\n",
    " \n",
    "# Mostremos la imagen:\n",
    "plt.imshow(wordcloud, interpolation='bilinear')\n",
    "#plt.axis(\"off\")\n",
    "#plt.margins(x=0, y=0)\n",
    "plt.show()"
   ]
  },
  {
   "cell_type": "markdown",
   "metadata": {},
   "source": [
    "### Referencias\n",
    "https://www.analyticsvidhya.com/blog/2016/01/guide-data-exploration/#two\n",
    "\n",
    "https://www.analyticsvidhya.com/blog/2016/01/12-pandas-techniques-python-data-manipulation/\n",
    "\n",
    "https://www.analyticsvidhya.com/blog/2016/01/complete-tutorial-learn-data-science-python-scratch-2/\n",
    "\n",
    "Github:\n",
    "\n",
    "\n",
    "http://nbviewer.jupyter.org/github/albahnsen/PracticalMachineLearningClass/blob/master/notebooks/06-data_preparation_evaluation_update.ipynb\n",
    "\n",
    "Data:\n",
    "\n",
    "https://www.kaggle.com/adityapatil673/visual-analysis-of-apps-on-applestore?utm_medium=email&utm_source=mailchimp&utm_campaign=datanotes-20180726\n",
    "\n",
    "https://www.analyticsvidhya.com/blog/2018/05/24-ultimate-data-science-projects-to-boost-your-knowledge-and-skills/?utm_medium=social&utm_source=facebook.com&utm_campaign=buffer"
   ]
  }
 ],
 "metadata": {
  "kernelspec": {
   "display_name": "Python 3",
   "language": "python",
   "name": "python3"
  },
  "language_info": {
   "codemirror_mode": {
    "name": "ipython",
    "version": 3
   },
   "file_extension": ".py",
   "mimetype": "text/x-python",
   "name": "python",
   "nbconvert_exporter": "python",
   "pygments_lexer": "ipython3",
   "version": "3.7.1"
  }
 },
 "nbformat": 4,
 "nbformat_minor": 2
}
